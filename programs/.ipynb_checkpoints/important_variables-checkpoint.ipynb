{
 "cells": [
  {
   "cell_type": "code",
   "execution_count": 50,
   "id": "2681c01e-f3d8-4407-a2a7-41564a86de52",
   "metadata": {},
   "outputs": [],
   "source": [
    "import pandas\n",
    "import statsmodels.api as sm"
   ]
  },
  {
   "cell_type": "markdown",
   "id": "084639e2-d1f9-4150-823d-eeb13c9cf1b0",
   "metadata": {},
   "source": [
    "# Load Dataset\n",
    "The 'sample_data.csv' is from Rdatasets. A description of the data can be found here:  \n",
    "https://vincentarelbundock.github.io/Rdatasets/doc/Stat2Data/FishEggs.html"
   ]
  },
  {
   "cell_type": "code",
   "execution_count": 51,
   "id": "344a8e51-0134-4a75-bce5-c31808655452",
   "metadata": {},
   "outputs": [
    {
     "data": {
      "text/html": [
       "<div>\n",
       "<style scoped>\n",
       "    .dataframe tbody tr th:only-of-type {\n",
       "        vertical-align: middle;\n",
       "    }\n",
       "\n",
       "    .dataframe tbody tr th {\n",
       "        vertical-align: top;\n",
       "    }\n",
       "\n",
       "    .dataframe thead th {\n",
       "        text-align: right;\n",
       "    }\n",
       "</style>\n",
       "<table border=\"1\" class=\"dataframe\">\n",
       "  <thead>\n",
       "    <tr style=\"text-align: right;\">\n",
       "      <th></th>\n",
       "      <th>Unnamed: 0</th>\n",
       "      <th>Age</th>\n",
       "      <th>PctDM</th>\n",
       "      <th>Month</th>\n",
       "      <th>Sept</th>\n",
       "    </tr>\n",
       "  </thead>\n",
       "  <tbody>\n",
       "    <tr>\n",
       "      <th>0</th>\n",
       "      <td>0</td>\n",
       "      <td>7</td>\n",
       "      <td>37.35</td>\n",
       "      <td>Nov</td>\n",
       "      <td>0</td>\n",
       "    </tr>\n",
       "    <tr>\n",
       "      <th>1</th>\n",
       "      <td>1</td>\n",
       "      <td>8</td>\n",
       "      <td>38.05</td>\n",
       "      <td>Nov</td>\n",
       "      <td>0</td>\n",
       "    </tr>\n",
       "    <tr>\n",
       "      <th>2</th>\n",
       "      <td>2</td>\n",
       "      <td>8</td>\n",
       "      <td>37.45</td>\n",
       "      <td>Nov</td>\n",
       "      <td>0</td>\n",
       "    </tr>\n",
       "    <tr>\n",
       "      <th>3</th>\n",
       "      <td>3</td>\n",
       "      <td>9</td>\n",
       "      <td>38.95</td>\n",
       "      <td>Nov</td>\n",
       "      <td>0</td>\n",
       "    </tr>\n",
       "    <tr>\n",
       "      <th>4</th>\n",
       "      <td>4</td>\n",
       "      <td>9</td>\n",
       "      <td>37.90</td>\n",
       "      <td>Nov</td>\n",
       "      <td>0</td>\n",
       "    </tr>\n",
       "  </tbody>\n",
       "</table>\n",
       "</div>"
      ],
      "text/plain": [
       "   Unnamed: 0  Age  PctDM Month  Sept\n",
       "0           0    7  37.35   Nov     0\n",
       "1           1    8  38.05   Nov     0\n",
       "2           2    8  37.45   Nov     0\n",
       "3           3    9  38.95   Nov     0\n",
       "4           4    9  37.90   Nov     0"
      ]
     },
     "execution_count": 51,
     "metadata": {},
     "output_type": "execute_result"
    }
   ],
   "source": [
    "filename = 'sample_data.csv'\n",
    "\n",
    "data = pandas.read_csv(filename)\n",
    "data.head()"
   ]
  },
  {
   "cell_type": "code",
   "execution_count": 17,
   "id": "ca81be33-ecf4-4283-8cac-f2403692a15d",
   "metadata": {},
   "outputs": [],
   "source": [
    "outcome = 'PctDM'\n",
    "predictors = ['Age', 'Sept']"
   ]
  },
  {
   "cell_type": "code",
   "execution_count": 39,
   "id": "7084fd3e-9199-45f0-ad1d-7bc74d0183d7",
   "metadata": {},
   "outputs": [
    {
     "name": "stdout",
     "output_type": "stream",
     "text": [
      "PctDM~Age+Sept\n"
     ]
    },
    {
     "data": {
      "text/html": [
       "<table class=\"simpletable\">\n",
       "<caption>OLS Regression Results</caption>\n",
       "<tr>\n",
       "  <th>Dep. Variable:</th>          <td>PctDM</td>      <th>  R-squared:         </th> <td>   0.430</td>\n",
       "</tr>\n",
       "<tr>\n",
       "  <th>Model:</th>                   <td>OLS</td>       <th>  Adj. R-squared:    </th> <td>   0.394</td>\n",
       "</tr>\n",
       "<tr>\n",
       "  <th>Method:</th>             <td>Least Squares</td>  <th>  F-statistic:       </th> <td>   12.06</td>\n",
       "</tr>\n",
       "<tr>\n",
       "  <th>Date:</th>             <td>Wed, 13 Oct 2021</td> <th>  Prob (F-statistic):</th> <td>0.000125</td>\n",
       "</tr>\n",
       "<tr>\n",
       "  <th>Time:</th>                 <td>16:32:11</td>     <th>  Log-Likelihood:    </th> <td> -55.144</td>\n",
       "</tr>\n",
       "<tr>\n",
       "  <th>No. Observations:</th>      <td>    35</td>      <th>  AIC:               </th> <td>   116.3</td>\n",
       "</tr>\n",
       "<tr>\n",
       "  <th>Df Residuals:</th>          <td>    32</td>      <th>  BIC:               </th> <td>   121.0</td>\n",
       "</tr>\n",
       "<tr>\n",
       "  <th>Df Model:</th>              <td>     2</td>      <th>                     </th>     <td> </td>   \n",
       "</tr>\n",
       "<tr>\n",
       "  <th>Covariance Type:</th>      <td>nonrobust</td>    <th>                     </th>     <td> </td>   \n",
       "</tr>\n",
       "</table>\n",
       "<table class=\"simpletable\">\n",
       "<tr>\n",
       "      <td></td>         <th>coef</th>     <th>std err</th>      <th>t</th>      <th>P>|t|</th>  <th>[0.025</th>    <th>0.975]</th>  \n",
       "</tr>\n",
       "<tr>\n",
       "  <th>Intercept</th> <td>   39.5192</td> <td>    0.778</td> <td>   50.778</td> <td> 0.000</td> <td>   37.934</td> <td>   41.105</td>\n",
       "</tr>\n",
       "<tr>\n",
       "  <th>Age</th>       <td>   -0.2287</td> <td>    0.063</td> <td>   -3.635</td> <td> 0.001</td> <td>   -0.357</td> <td>   -0.101</td>\n",
       "</tr>\n",
       "<tr>\n",
       "  <th>Sept</th>      <td>   -1.5193</td> <td>    0.423</td> <td>   -3.588</td> <td> 0.001</td> <td>   -2.382</td> <td>   -0.657</td>\n",
       "</tr>\n",
       "</table>\n",
       "<table class=\"simpletable\">\n",
       "<tr>\n",
       "  <th>Omnibus:</th>       <td> 1.371</td> <th>  Durbin-Watson:     </th> <td>   2.485</td>\n",
       "</tr>\n",
       "<tr>\n",
       "  <th>Prob(Omnibus):</th> <td> 0.504</td> <th>  Jarque-Bera (JB):  </th> <td>   1.067</td>\n",
       "</tr>\n",
       "<tr>\n",
       "  <th>Skew:</th>          <td>-0.421</td> <th>  Prob(JB):          </th> <td>   0.587</td>\n",
       "</tr>\n",
       "<tr>\n",
       "  <th>Kurtosis:</th>      <td> 2.848</td> <th>  Cond. No.          </th> <td>    45.7</td>\n",
       "</tr>\n",
       "</table><br/><br/>Notes:<br/>[1] Standard Errors assume that the covariance matrix of the errors is correctly specified."
      ],
      "text/plain": [
       "<class 'statsmodels.iolib.summary.Summary'>\n",
       "\"\"\"\n",
       "                            OLS Regression Results                            \n",
       "==============================================================================\n",
       "Dep. Variable:                  PctDM   R-squared:                       0.430\n",
       "Model:                            OLS   Adj. R-squared:                  0.394\n",
       "Method:                 Least Squares   F-statistic:                     12.06\n",
       "Date:                Wed, 13 Oct 2021   Prob (F-statistic):           0.000125\n",
       "Time:                        16:32:11   Log-Likelihood:                -55.144\n",
       "No. Observations:                  35   AIC:                             116.3\n",
       "Df Residuals:                      32   BIC:                             121.0\n",
       "Df Model:                           2                                         \n",
       "Covariance Type:            nonrobust                                         \n",
       "==============================================================================\n",
       "                 coef    std err          t      P>|t|      [0.025      0.975]\n",
       "------------------------------------------------------------------------------\n",
       "Intercept     39.5192      0.778     50.778      0.000      37.934      41.105\n",
       "Age           -0.2287      0.063     -3.635      0.001      -0.357      -0.101\n",
       "Sept          -1.5193      0.423     -3.588      0.001      -2.382      -0.657\n",
       "==============================================================================\n",
       "Omnibus:                        1.371   Durbin-Watson:                   2.485\n",
       "Prob(Omnibus):                  0.504   Jarque-Bera (JB):                1.067\n",
       "Skew:                          -0.421   Prob(JB):                        0.587\n",
       "Kurtosis:                       2.848   Cond. No.                         45.7\n",
       "==============================================================================\n",
       "\n",
       "Notes:\n",
       "[1] Standard Errors assume that the covariance matrix of the errors is correctly specified.\n",
       "\"\"\""
      ]
     },
     "execution_count": 39,
     "metadata": {},
     "output_type": "execute_result"
    }
   ],
   "source": [
    "formula = outcome + '~' + predictors[0] + '+' + predictors[1]\n",
    "print(formula)\n",
    "fit = sm.OLS.from_formula(formula, data).fit()\n",
    "fit.summary()"
   ]
  },
  {
   "cell_type": "code",
   "execution_count": 36,
   "id": "1823a283-dc28-4cc2-9564-6810a16359eb",
   "metadata": {},
   "outputs": [
    {
     "data": {
      "text/plain": [
       "3.660265387975013e-32"
      ]
     },
     "execution_count": 36,
     "metadata": {},
     "output_type": "execute_result"
    }
   ],
   "source": [
    "fit.pvalues[0]"
   ]
  },
  {
   "cell_type": "code",
   "execution_count": 49,
   "id": "b8eb6ec8-18fb-47b4-a596-4886f7116abb",
   "metadata": {},
   "outputs": [
    {
     "data": {
      "text/plain": [
       "{'Age': 0.0010962525075049604, 'Sept': None}"
      ]
     },
     "execution_count": 49,
     "metadata": {},
     "output_type": "execute_result"
    }
   ],
   "source": [
    "#predictors_remaining = predictors.copy()\n",
    "predictors_remaining = ['Age']\n",
    "predictors_kept = 'Sept' + '+'\n",
    "\n",
    "pvalues = {predictors[0]: None, predictors[1]: None}\n",
    "# TODO: turn this into dataframe for different levels\n",
    "\n",
    "for predictor in predictors_remaining:\n",
    "    formula = outcome + '~' + predictors_kept + predictor\n",
    "    fit = sm.OLS.from_formula(formula, data).fit()\n",
    "    pvalues[predictor] = fit.pvalues[1]\n",
    "    # print(fit.summary())\n",
    "\n",
    "pvalues"
   ]
  },
  {
   "cell_type": "code",
   "execution_count": 45,
   "id": "0c44a6fc-a2d5-4767-b423-8db4339c454a",
   "metadata": {},
   "outputs": [
    {
     "data": {
      "text/plain": [
       "0.007001273350771227"
      ]
     },
     "execution_count": 45,
     "metadata": {},
     "output_type": "execute_result"
    }
   ],
   "source": [
    "min_pvalue = min(pvalues.values())\n",
    "min_pvalue"
   ]
  },
  {
   "cell_type": "code",
   "execution_count": 46,
   "id": "623525a5-3a8f-47d6-abea-b8727035ff70",
   "metadata": {},
   "outputs": [
    {
     "data": {
      "text/plain": [
       "'Age'"
      ]
     },
     "execution_count": 46,
     "metadata": {},
     "output_type": "execute_result"
    }
   ],
   "source": [
    "list(pvalues.keys())[list(pvalues.values()).index(min_pvalue)]"
   ]
  },
  {
   "cell_type": "code",
   "execution_count": null,
   "id": "f5ca0c01-b567-4a42-83ef-f19d2c415069",
   "metadata": {},
   "outputs": [],
   "source": [
    "def find_important_variables(data: pandas.DataFrame, outcome: str, predictors: list, evaluation_measure='pvalue', evaluation_threshold=0.05):\n",
    "    predictors_remaining = predictors\n",
    "    predictors_kept = ''\n",
    "    num_predictors_kept = 0\n",
    "\n",
    "    pvalues = pandas.DataFrame(columns=predictors, index=range(len(predictors)))\n",
    "\n",
    "    for predictor in predictors_remaining:\n",
    "        # Create function formula with one additional predictor\n",
    "        formula = outcome + '~' + predictors_kept + predictor\n",
    "        # Fit a linear model with the above formula\n",
    "        model_fit = sm.OLS.from_formula(formula, data).fit()\n",
    "        # Record the pvalue of the new predictor\n",
    "        pvalues.loc[num_predictors_kept, predictor] = model_fit.pvalues[num_predictors_kept + 1]"
   ]
  }
 ],
 "metadata": {
  "kernelspec": {
   "display_name": "Python 3",
   "language": "python",
   "name": "python3"
  },
  "language_info": {
   "codemirror_mode": {
    "name": "ipython",
    "version": 3
   },
   "file_extension": ".py",
   "mimetype": "text/x-python",
   "name": "python",
   "nbconvert_exporter": "python",
   "pygments_lexer": "ipython3",
   "version": "3.8.8"
  }
 },
 "nbformat": 4,
 "nbformat_minor": 5
}
