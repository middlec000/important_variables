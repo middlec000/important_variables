{
 "cells": [
  {
   "cell_type": "markdown",
   "id": "d7dde774-970c-4871-bad4-123876b8546f",
   "metadata": {},
   "source": [
    "Here is a markdown cell\n",
    "# This is a Section\n",
    "## Subsection\n",
    "### and Subsubsection\n",
    "See the Table of Contents on the left to check the organization."
   ]
  },
  {
   "cell_type": "code",
   "execution_count": 2,
   "id": "b46043f3-9cc1-4b9d-acb9-2ccb78d14a6d",
   "metadata": {
    "tags": []
   },
   "outputs": [],
   "source": [
    "# Here is a code cell\n",
    "# In code cells, '#' is the comment symbol for Python, so anything after the # on the same line will be interpreted as a comment, not code to run"
   ]
  },
  {
   "cell_type": "code",
   "execution_count": 5,
   "id": "cb756523-8559-45d8-aecb-59f7c07653f0",
   "metadata": {},
   "outputs": [
    {
     "name": "stdout",
     "output_type": "stream",
     "text": [
      "Hello World!\n"
     ]
    }
   ],
   "source": [
    "print(\"Hello World!\")"
   ]
  },
  {
   "cell_type": "code",
   "execution_count": 4,
   "id": "4522bd4c-d7ba-4bd5-a381-3563f20c262d",
   "metadata": {},
   "outputs": [
    {
     "name": "stdout",
     "output_type": "stream",
     "text": [
      "Goodbye World!\n"
     ]
    }
   ],
   "source": [
    "print(\"Goodbye World!\")"
   ]
  },
  {
   "cell_type": "code",
   "execution_count": null,
   "id": "652c2fea-f9ab-4951-bcb1-89d3fc9c363d",
   "metadata": {},
   "outputs": [],
   "source": []
  },
  {
   "cell_type": "code",
   "execution_count": null,
   "id": "dace0bb8-4f07-4408-a53c-4b17f0da8106",
   "metadata": {},
   "outputs": [],
   "source": []
  }
 ],
 "metadata": {
  "kernelspec": {
   "display_name": "Python 3",
   "language": "python",
   "name": "python3"
  },
  "language_info": {
   "codemirror_mode": {
    "name": "ipython",
    "version": 3
   },
   "file_extension": ".py",
   "mimetype": "text/x-python",
   "name": "python",
   "nbconvert_exporter": "python",
   "pygments_lexer": "ipython3",
   "version": "3.8.8"
  }
 },
 "nbformat": 4,
 "nbformat_minor": 5
}
