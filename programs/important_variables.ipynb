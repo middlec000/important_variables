{
 "cells": [
  {
   "cell_type": "code",
   "execution_count": 1,
   "id": "b69afbc4-a5ad-451f-9c7a-a6c33058d588",
   "metadata": {},
   "outputs": [],
   "source": [
    "%config IPCompleter.greedy=True"
   ]
  },
  {
   "cell_type": "markdown",
   "id": "084639e2-d1f9-4150-823d-eeb13c9cf1b0",
   "metadata": {},
   "source": [
    "# Package Imports and Load Dataset\n",
    "The 'sample_data.csv' is from Rdatasets. A description of the data can be found here:  \n",
    "https://vincentarelbundock.github.io/Rdatasets/doc/Stat2Data/FishEggs.html"
   ]
  },
  {
   "cell_type": "code",
   "execution_count": 2,
   "id": "344a8e51-0134-4a75-bce5-c31808655452",
   "metadata": {},
   "outputs": [
    {
     "data": {
      "text/html": [
       "<div>\n",
       "<style scoped>\n",
       "    .dataframe tbody tr th:only-of-type {\n",
       "        vertical-align: middle;\n",
       "    }\n",
       "\n",
       "    .dataframe tbody tr th {\n",
       "        vertical-align: top;\n",
       "    }\n",
       "\n",
       "    .dataframe thead th {\n",
       "        text-align: right;\n",
       "    }\n",
       "</style>\n",
       "<table border=\"1\" class=\"dataframe\">\n",
       "  <thead>\n",
       "    <tr style=\"text-align: right;\">\n",
       "      <th></th>\n",
       "      <th>Unnamed: 0</th>\n",
       "      <th>Age</th>\n",
       "      <th>PctDM</th>\n",
       "      <th>Month</th>\n",
       "      <th>Sept</th>\n",
       "    </tr>\n",
       "  </thead>\n",
       "  <tbody>\n",
       "    <tr>\n",
       "      <th>0</th>\n",
       "      <td>0</td>\n",
       "      <td>7</td>\n",
       "      <td>37.35</td>\n",
       "      <td>Nov</td>\n",
       "      <td>0</td>\n",
       "    </tr>\n",
       "    <tr>\n",
       "      <th>1</th>\n",
       "      <td>1</td>\n",
       "      <td>8</td>\n",
       "      <td>38.05</td>\n",
       "      <td>Nov</td>\n",
       "      <td>0</td>\n",
       "    </tr>\n",
       "    <tr>\n",
       "      <th>2</th>\n",
       "      <td>2</td>\n",
       "      <td>8</td>\n",
       "      <td>37.45</td>\n",
       "      <td>Nov</td>\n",
       "      <td>0</td>\n",
       "    </tr>\n",
       "    <tr>\n",
       "      <th>3</th>\n",
       "      <td>3</td>\n",
       "      <td>9</td>\n",
       "      <td>38.95</td>\n",
       "      <td>Nov</td>\n",
       "      <td>0</td>\n",
       "    </tr>\n",
       "    <tr>\n",
       "      <th>4</th>\n",
       "      <td>4</td>\n",
       "      <td>9</td>\n",
       "      <td>37.90</td>\n",
       "      <td>Nov</td>\n",
       "      <td>0</td>\n",
       "    </tr>\n",
       "  </tbody>\n",
       "</table>\n",
       "</div>"
      ],
      "text/plain": [
       "   Unnamed: 0  Age  PctDM Month  Sept\n",
       "0           0    7  37.35   Nov     0\n",
       "1           1    8  38.05   Nov     0\n",
       "2           2    8  37.45   Nov     0\n",
       "3           3    9  38.95   Nov     0\n",
       "4           4    9  37.90   Nov     0"
      ]
     },
     "execution_count": 2,
     "metadata": {},
     "output_type": "execute_result"
    }
   ],
   "source": [
    "# Here I am importing the Python package called 'pandas'\n",
    "# It will help us view and manipulate the data\n",
    "import pandas\n",
    "# We will also need the package 'statsmodels' to build a model\n",
    "import statsmodels.api as sm\n",
    "\n",
    "# Type your file name in the variable named 'filename' below\n",
    "filename = 'sample_data.csv'\n",
    "\n",
    "# This line uses the pandas package to read your data file and load it into the variable named 'data'\n",
    "data = pandas.read_csv(filename)\n",
    "\n",
    "# The variable 'data' stores the file in a pandas dataframe. You can do lots of nice things with dataframes, including viewing their head (beginning) or tail (end)\n",
    "data.head()"
   ]
  },
  {
   "cell_type": "markdown",
   "id": "78971d2b-5782-4d21-9345-6a2de6dd527b",
   "metadata": {},
   "source": [
    "# Set Variables\n",
    "Record which variable is the outcome variable and which are the predictor variables you want to investigate.  \n",
    "These all must be numerical variables, not text."
   ]
  },
  {
   "cell_type": "code",
   "execution_count": 3,
   "id": "ca81be33-ecf4-4283-8cac-f2403692a15d",
   "metadata": {},
   "outputs": [],
   "source": [
    "outcome = 'PctDM'\n",
    "predictors = ['Age', 'Sept']"
   ]
  },
  {
   "cell_type": "code",
   "execution_count": 4,
   "id": "7084fd3e-9199-45f0-ad1d-7bc74d0183d7",
   "metadata": {},
   "outputs": [
    {
     "name": "stdout",
     "output_type": "stream",
     "text": [
      "PctDM~Age+Sept\n"
     ]
    },
    {
     "data": {
      "text/html": [
       "<table class=\"simpletable\">\n",
       "<caption>OLS Regression Results</caption>\n",
       "<tr>\n",
       "  <th>Dep. Variable:</th>          <td>PctDM</td>      <th>  R-squared:         </th> <td>   0.430</td>\n",
       "</tr>\n",
       "<tr>\n",
       "  <th>Model:</th>                   <td>OLS</td>       <th>  Adj. R-squared:    </th> <td>   0.394</td>\n",
       "</tr>\n",
       "<tr>\n",
       "  <th>Method:</th>             <td>Least Squares</td>  <th>  F-statistic:       </th> <td>   12.06</td>\n",
       "</tr>\n",
       "<tr>\n",
       "  <th>Date:</th>             <td>Tue, 26 Oct 2021</td> <th>  Prob (F-statistic):</th> <td>0.000125</td>\n",
       "</tr>\n",
       "<tr>\n",
       "  <th>Time:</th>                 <td>16:42:11</td>     <th>  Log-Likelihood:    </th> <td> -55.144</td>\n",
       "</tr>\n",
       "<tr>\n",
       "  <th>No. Observations:</th>      <td>    35</td>      <th>  AIC:               </th> <td>   116.3</td>\n",
       "</tr>\n",
       "<tr>\n",
       "  <th>Df Residuals:</th>          <td>    32</td>      <th>  BIC:               </th> <td>   121.0</td>\n",
       "</tr>\n",
       "<tr>\n",
       "  <th>Df Model:</th>              <td>     2</td>      <th>                     </th>     <td> </td>   \n",
       "</tr>\n",
       "<tr>\n",
       "  <th>Covariance Type:</th>      <td>nonrobust</td>    <th>                     </th>     <td> </td>   \n",
       "</tr>\n",
       "</table>\n",
       "<table class=\"simpletable\">\n",
       "<tr>\n",
       "      <td></td>         <th>coef</th>     <th>std err</th>      <th>t</th>      <th>P>|t|</th>  <th>[0.025</th>    <th>0.975]</th>  \n",
       "</tr>\n",
       "<tr>\n",
       "  <th>Intercept</th> <td>   39.5192</td> <td>    0.778</td> <td>   50.778</td> <td> 0.000</td> <td>   37.934</td> <td>   41.105</td>\n",
       "</tr>\n",
       "<tr>\n",
       "  <th>Age</th>       <td>   -0.2287</td> <td>    0.063</td> <td>   -3.635</td> <td> 0.001</td> <td>   -0.357</td> <td>   -0.101</td>\n",
       "</tr>\n",
       "<tr>\n",
       "  <th>Sept</th>      <td>   -1.5193</td> <td>    0.423</td> <td>   -3.588</td> <td> 0.001</td> <td>   -2.382</td> <td>   -0.657</td>\n",
       "</tr>\n",
       "</table>\n",
       "<table class=\"simpletable\">\n",
       "<tr>\n",
       "  <th>Omnibus:</th>       <td> 1.371</td> <th>  Durbin-Watson:     </th> <td>   2.485</td>\n",
       "</tr>\n",
       "<tr>\n",
       "  <th>Prob(Omnibus):</th> <td> 0.504</td> <th>  Jarque-Bera (JB):  </th> <td>   1.067</td>\n",
       "</tr>\n",
       "<tr>\n",
       "  <th>Skew:</th>          <td>-0.421</td> <th>  Prob(JB):          </th> <td>   0.587</td>\n",
       "</tr>\n",
       "<tr>\n",
       "  <th>Kurtosis:</th>      <td> 2.848</td> <th>  Cond. No.          </th> <td>    45.7</td>\n",
       "</tr>\n",
       "</table><br/><br/>Notes:<br/>[1] Standard Errors assume that the covariance matrix of the errors is correctly specified."
      ],
      "text/plain": [
       "<class 'statsmodels.iolib.summary.Summary'>\n",
       "\"\"\"\n",
       "                            OLS Regression Results                            \n",
       "==============================================================================\n",
       "Dep. Variable:                  PctDM   R-squared:                       0.430\n",
       "Model:                            OLS   Adj. R-squared:                  0.394\n",
       "Method:                 Least Squares   F-statistic:                     12.06\n",
       "Date:                Tue, 26 Oct 2021   Prob (F-statistic):           0.000125\n",
       "Time:                        16:42:11   Log-Likelihood:                -55.144\n",
       "No. Observations:                  35   AIC:                             116.3\n",
       "Df Residuals:                      32   BIC:                             121.0\n",
       "Df Model:                           2                                         \n",
       "Covariance Type:            nonrobust                                         \n",
       "==============================================================================\n",
       "                 coef    std err          t      P>|t|      [0.025      0.975]\n",
       "------------------------------------------------------------------------------\n",
       "Intercept     39.5192      0.778     50.778      0.000      37.934      41.105\n",
       "Age           -0.2287      0.063     -3.635      0.001      -0.357      -0.101\n",
       "Sept          -1.5193      0.423     -3.588      0.001      -2.382      -0.657\n",
       "==============================================================================\n",
       "Omnibus:                        1.371   Durbin-Watson:                   2.485\n",
       "Prob(Omnibus):                  0.504   Jarque-Bera (JB):                1.067\n",
       "Skew:                          -0.421   Prob(JB):                        0.587\n",
       "Kurtosis:                       2.848   Cond. No.                         45.7\n",
       "==============================================================================\n",
       "\n",
       "Notes:\n",
       "[1] Standard Errors assume that the covariance matrix of the errors is correctly specified.\n",
       "\"\"\""
      ]
     },
     "execution_count": 4,
     "metadata": {},
     "output_type": "execute_result"
    }
   ],
   "source": [
    "formula = outcome + '~' + predictors[0] + '+' + predictors[1]\n",
    "print(formula)\n",
    "fit = sm.OLS.from_formula(formula, data).fit()\n",
    "fit.summary()"
   ]
  },
  {
   "cell_type": "code",
   "execution_count": 54,
   "id": "02bed99a-75b5-4e71-80c1-aaf3c2d88b60",
   "metadata": {},
   "outputs": [
    {
     "data": {
      "text/plain": [
       "0.4298313140440605"
      ]
     },
     "execution_count": 54,
     "metadata": {},
     "output_type": "execute_result"
    }
   ],
   "source": [
    "fit.rsquared"
   ]
  },
  {
   "cell_type": "code",
   "execution_count": 55,
   "id": "4d8367f8-4a6d-40fb-9f10-bd39e1d2e8fc",
   "metadata": {},
   "outputs": [
    {
     "data": {
      "text/plain": [
       "Intercept    39.519219\n",
       "Age          -0.228703\n",
       "Sept         -1.519290\n",
       "dtype: float64"
      ]
     },
     "execution_count": 55,
     "metadata": {},
     "output_type": "execute_result"
    }
   ],
   "source": [
    "fit."
   ]
  },
  {
   "cell_type": "markdown",
   "id": "63c2683f-1364-4f57-8544-c77aa353d9e3",
   "metadata": {},
   "source": [
    "# Main Algorithms"
   ]
  },
  {
   "cell_type": "code",
   "execution_count": 46,
   "id": "f5ca0c01-b567-4a42-83ef-f19d2c415069",
   "metadata": {},
   "outputs": [],
   "source": [
    "def get_formula(outcome: str, predictors: list) -> str:\n",
    "    '''\n",
    "    This is a function description block.\n",
    "    If you type 'get_formula?' in a code cell and execute it, this description will pop up.\n",
    "    You can tell users (or remind yourself) how to use your code with this simple documentation. I also like to track changes.\n",
    "    \n",
    "    Last Edited: 10/26/2021\n",
    "    \n",
    "    input\n",
    "        outcome\n",
    "            string name of outcome variable\n",
    "        predictors\n",
    "            list of string names of predictor variables\n",
    "            \n",
    "    output\n",
    "        formula\n",
    "            string formula to be used in a model\n",
    "    '''\n",
    "    formula = outcome + '~'\n",
    "    for predictor in predictors:\n",
    "        formula += '+' + predictor\n",
    "    return formula\n",
    "\n",
    "\n",
    "def find_important_predictors(data: pandas.DataFrame, outcome: str, predictors: list, importance_measure: str = 'pvalue', importance_threshold: float = 0.05):\n",
    "    '''\n",
    "    Last Edited: 10/26/2021\n",
    "    \n",
    "    So far this function finds important variables through the process of forward stepwise linear regression\n",
    "    https://en.wikipedia.org/wiki/Stepwise_regression\n",
    "    \n",
    "    Important variables are determined by thier 'importance_measure.' The following importance measures are supported:\n",
    "        p-value\n",
    "    \n",
    "    input\n",
    "        data\n",
    "            pandas DataFrame containing the data\n",
    "        outcome\n",
    "            string name of outcome variable\n",
    "        predictors\n",
    "            list of string names of predictor variables\n",
    "        importance_measure\n",
    "            string name of importance measure to use\n",
    "        importance_threshold\n",
    "            float threshold used to determine if a variable is important or not\n",
    "            \n",
    "    output\n",
    "        list of string names of important variables\n",
    "    '''\n",
    "    # Import the statsmodels package to create models\n",
    "    import statsmodels.api as sm\n",
    "    # Use this to create a copy of the predictors list\n",
    "    from copy import copy\n",
    "    \n",
    "    # We want to track which predictor variables we have left to test\n",
    "    predictors_to_test = copy(predictors)\n",
    "    # and which predictors are deemed as important and retained in the model\n",
    "    important_predictors = []\n",
    "    # We can also track which round we are on\n",
    "    Round = 0\n",
    "    \n",
    "    # Keep looking for more important variables until the list of predictors_to_test is empty\n",
    "    while bool(predictors_to_test):\n",
    "        # Print which round we are on\n",
    "        Round += 1\n",
    "        print(f'Round: {Round}')\n",
    "        \n",
    "        # Set up which variables to get importance measures for\n",
    "        importance_values = {}\n",
    "        for predictor in predictors_to_test:\n",
    "            importance_values[predictor] = None\n",
    "\n",
    "        # Now add each predictor in predictors_to_test to the model and test its importance\n",
    "        for predictor in predictors_to_test:\n",
    "            print(f'Currently Testing Predictor: {predictor}')\n",
    "\n",
    "            # Create function formula with one additional predictor\n",
    "            formula = get_formula(outcome=outcome, predictors=important_predictors + [predictor])\n",
    "            print(f'Current Formula: {formula}\\n')\n",
    "            \n",
    "            # Fit a linear model with the above formula\n",
    "            model_fit = sm.OLS.from_formula(formula=formula, data=data).fit()\n",
    "            \n",
    "            # Record the importance measure of the new predictor\n",
    "            if importance_measure == 'pvalue':\n",
    "                importance_values[predictor] = model_fit.pvalues[len(important_predictors) + 1]\n",
    "        \n",
    "        print('Importance Values Found:')\n",
    "        print(importance_values)\n",
    "        \n",
    "        most_important_value = 0\n",
    "        # Retain the most important new predictor\n",
    "        if importance_measure == 'pvalue':\n",
    "            most_important_value = min(importance_values.values())\n",
    "            \n",
    "            # If the most important new predictor is not important enough (does not pass the importance_threshold), then stop looking\n",
    "            if most_important_value > importance_threshold:\n",
    "                predictors_to_test = []\n",
    "                print('No more important variables, exiting.')\n",
    "                pass\n",
    "            # Otherwise, continue\n",
    "            \n",
    "        # Find the most important new predictor, add it to the important_predictors, and remove it from predictors_to_test\n",
    "        most_important_predictor = list(importance_values.keys())[list(importance_values.values()).index(most_important_value)]\n",
    "        print(f'Most Important Predictor this Round: {most_important_predictor}\\n')\n",
    "        important_predictors.append(most_important_predictor)\n",
    "        predictors_to_test.remove(most_important_predictor)\n",
    "        \n",
    "    return important_predictors"
   ]
  },
  {
   "cell_type": "markdown",
   "id": "1098ca42-3a1a-40d2-bec5-b2bd3144d605",
   "metadata": {},
   "source": [
    "# Run"
   ]
  },
  {
   "cell_type": "code",
   "execution_count": 56,
   "id": "f90664c3-046d-4cb8-8c2f-5deb13321c46",
   "metadata": {},
   "outputs": [
    {
     "name": "stdout",
     "output_type": "stream",
     "text": [
      "Round: 1\n",
      "Currently Testing Predictor: Age\n",
      "Current Formula: PctDM~+Age\n",
      "\n",
      "Currently Testing Predictor: Sept\n",
      "Current Formula: PctDM~+Sept\n",
      "\n",
      "Importance Values Found:\n",
      "{'Age': 0.007001273350771227, 'Sept': 0.008018895566107404}\n",
      "Most Important Predictor this Round: Age\n",
      "\n",
      "Round: 2\n",
      "Currently Testing Predictor: Sept\n",
      "Current Formula: PctDM~+Age+Sept\n",
      "\n",
      "Importance Values Found:\n",
      "{'Sept': 0.0010962525075049604}\n",
      "Most Important Predictor this Round: Sept\n",
      "\n"
     ]
    }
   ],
   "source": [
    "important_predictors = find_important_predictors(data=data, outcome=outcome, predictors=predictors)"
   ]
  },
  {
   "cell_type": "code",
   "execution_count": 57,
   "id": "c0480b9f-dadc-470d-8e31-5557f0ad1cb4",
   "metadata": {},
   "outputs": [
    {
     "data": {
      "text/plain": [
       "['Age', 'Sept']"
      ]
     },
     "execution_count": 57,
     "metadata": {},
     "output_type": "execute_result"
    }
   ],
   "source": [
    "important_predictors"
   ]
  },
  {
   "cell_type": "code",
   "execution_count": null,
   "id": "3839f5b2-cfcd-44c1-8413-276f4e4fbc8f",
   "metadata": {},
   "outputs": [],
   "source": []
  }
 ],
 "metadata": {
  "kernelspec": {
   "display_name": "Python 3",
   "language": "python",
   "name": "python3"
  },
  "language_info": {
   "codemirror_mode": {
    "name": "ipython",
    "version": 3
   },
   "file_extension": ".py",
   "mimetype": "text/x-python",
   "name": "python",
   "nbconvert_exporter": "python",
   "pygments_lexer": "ipython3",
   "version": "3.8.8"
  }
 },
 "nbformat": 4,
 "nbformat_minor": 5
}
